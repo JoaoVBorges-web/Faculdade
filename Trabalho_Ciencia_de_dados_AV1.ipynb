{
  "nbformat": 4,
  "nbformat_minor": 0,
  "metadata": {
    "colab": {
      "name": "Trabalho_Ciencia_de_dados-AV1.ipynb",
      "provenance": [],
      "collapsed_sections": [],
      "mount_file_id": "1ftq3e6zUmudiORL2UCl6kwLd97czzy7M",
      "authorship_tag": "ABX9TyNz2/oYC6lsk8eNMckg8smH",
      "include_colab_link": true
    },
    "kernelspec": {
      "name": "python3",
      "display_name": "Python 3"
    },
    "language_info": {
      "name": "python"
    }
  },
  "cells": [
    {
      "cell_type": "markdown",
      "metadata": {
        "id": "view-in-github",
        "colab_type": "text"
      },
      "source": [
        "<a href=\"https://colab.research.google.com/github/JoaoVBorges-web/Faculdade/blob/main/Trabalho_Ciencia_de_dados_AV1.ipynb\" target=\"_parent\"><img src=\"https://colab.research.google.com/assets/colab-badge.svg\" alt=\"Open In Colab\"/></a>"
      ]
    },
    {
      "cell_type": "markdown",
      "source": [
        "1-Leitura de dados com `pandas`"
      ],
      "metadata": {
        "id": "LV7nijiC2bwM"
      }
    },
    {
      "cell_type": "code",
      "execution_count": 3,
      "metadata": {
        "id": "cFiVzxp_ojB6"
      },
      "outputs": [],
      "source": [
        "#Importação do Pandas e Numpy\n",
        "import pandas as pd\n",
        "import matplotlib.pyplot as plt\n",
        "import numpy as np"
      ]
    },
    {
      "cell_type": "code",
      "source": [
        "#Importação da Base de dados a ser utilizada\n",
        "df = pd.read_excel('/content/drive/MyDrive/DadosVendaCarros.xlsx')"
      ],
      "metadata": {
        "id": "VLJLbiplo7BE"
      },
      "execution_count": 7,
      "outputs": []
    },
    {
      "cell_type": "code",
      "source": [
        "#Verificar base de dados\n",
        "df.head()"
      ],
      "metadata": {
        "colab": {
          "base_uri": "https://localhost:8080/",
          "height": 206
        },
        "id": "zj0kjm8w1-7E",
        "outputId": "2d96fa01-c7a8-4731-8d0c-76319f00c8f8"
      },
      "execution_count": 8,
      "outputs": [
        {
          "output_type": "execute_result",
          "data": {
            "text/plain": [
              "  DataNotaFiscal    Fabricante     Estado  ValorVenda  ValorCusto  \\\n",
              "0     04-10-2016   Rolls Royce  São Paulo       95000       50000   \n",
              "1     01-01-2016  Aston Martin  São Paulo      120000       75000   \n",
              "2     02-02-2016   Rolls Royce  São Paulo       88000       75000   \n",
              "3     03-03-2016   Rolls Royce  São Paulo       89000       88000   \n",
              "4     04-04-2016   Rolls Royce  São Paulo       92000       62000   \n",
              "\n",
              "   TotalDesconto  CustoEntrega  CustoMaoDeObra    NomeCliente       Modelo  \\\n",
              "0          500.0           750             750    Aldo Motors     Camargue   \n",
              "1            0.0          1500             550    Honest John          DBS   \n",
              "2          750.0          1000             550  Bright Orange  Prata Ghost   \n",
              "3            0.0          1000             550    Honest John  Prata Ghost   \n",
              "4            0.0          1500             550    Wheels'R'Us     Camargue   \n",
              "\n",
              "        Cor   Ano  \n",
              "0  Vermelho  2016  \n",
              "1      Azul  2016  \n",
              "2     Verde  2016  \n",
              "3      Azul  2016  \n",
              "4     Prata  2016  "
            ],
            "text/html": [
              "\n",
              "  <div id=\"df-d7f8d19b-73ec-4281-8192-8a34a0b89d3b\">\n",
              "    <div class=\"colab-df-container\">\n",
              "      <div>\n",
              "<style scoped>\n",
              "    .dataframe tbody tr th:only-of-type {\n",
              "        vertical-align: middle;\n",
              "    }\n",
              "\n",
              "    .dataframe tbody tr th {\n",
              "        vertical-align: top;\n",
              "    }\n",
              "\n",
              "    .dataframe thead th {\n",
              "        text-align: right;\n",
              "    }\n",
              "</style>\n",
              "<table border=\"1\" class=\"dataframe\">\n",
              "  <thead>\n",
              "    <tr style=\"text-align: right;\">\n",
              "      <th></th>\n",
              "      <th>DataNotaFiscal</th>\n",
              "      <th>Fabricante</th>\n",
              "      <th>Estado</th>\n",
              "      <th>ValorVenda</th>\n",
              "      <th>ValorCusto</th>\n",
              "      <th>TotalDesconto</th>\n",
              "      <th>CustoEntrega</th>\n",
              "      <th>CustoMaoDeObra</th>\n",
              "      <th>NomeCliente</th>\n",
              "      <th>Modelo</th>\n",
              "      <th>Cor</th>\n",
              "      <th>Ano</th>\n",
              "    </tr>\n",
              "  </thead>\n",
              "  <tbody>\n",
              "    <tr>\n",
              "      <th>0</th>\n",
              "      <td>04-10-2016</td>\n",
              "      <td>Rolls Royce</td>\n",
              "      <td>São Paulo</td>\n",
              "      <td>95000</td>\n",
              "      <td>50000</td>\n",
              "      <td>500.0</td>\n",
              "      <td>750</td>\n",
              "      <td>750</td>\n",
              "      <td>Aldo Motors</td>\n",
              "      <td>Camargue</td>\n",
              "      <td>Vermelho</td>\n",
              "      <td>2016</td>\n",
              "    </tr>\n",
              "    <tr>\n",
              "      <th>1</th>\n",
              "      <td>01-01-2016</td>\n",
              "      <td>Aston Martin</td>\n",
              "      <td>São Paulo</td>\n",
              "      <td>120000</td>\n",
              "      <td>75000</td>\n",
              "      <td>0.0</td>\n",
              "      <td>1500</td>\n",
              "      <td>550</td>\n",
              "      <td>Honest John</td>\n",
              "      <td>DBS</td>\n",
              "      <td>Azul</td>\n",
              "      <td>2016</td>\n",
              "    </tr>\n",
              "    <tr>\n",
              "      <th>2</th>\n",
              "      <td>02-02-2016</td>\n",
              "      <td>Rolls Royce</td>\n",
              "      <td>São Paulo</td>\n",
              "      <td>88000</td>\n",
              "      <td>75000</td>\n",
              "      <td>750.0</td>\n",
              "      <td>1000</td>\n",
              "      <td>550</td>\n",
              "      <td>Bright Orange</td>\n",
              "      <td>Prata Ghost</td>\n",
              "      <td>Verde</td>\n",
              "      <td>2016</td>\n",
              "    </tr>\n",
              "    <tr>\n",
              "      <th>3</th>\n",
              "      <td>03-03-2016</td>\n",
              "      <td>Rolls Royce</td>\n",
              "      <td>São Paulo</td>\n",
              "      <td>89000</td>\n",
              "      <td>88000</td>\n",
              "      <td>0.0</td>\n",
              "      <td>1000</td>\n",
              "      <td>550</td>\n",
              "      <td>Honest John</td>\n",
              "      <td>Prata Ghost</td>\n",
              "      <td>Azul</td>\n",
              "      <td>2016</td>\n",
              "    </tr>\n",
              "    <tr>\n",
              "      <th>4</th>\n",
              "      <td>04-04-2016</td>\n",
              "      <td>Rolls Royce</td>\n",
              "      <td>São Paulo</td>\n",
              "      <td>92000</td>\n",
              "      <td>62000</td>\n",
              "      <td>0.0</td>\n",
              "      <td>1500</td>\n",
              "      <td>550</td>\n",
              "      <td>Wheels'R'Us</td>\n",
              "      <td>Camargue</td>\n",
              "      <td>Prata</td>\n",
              "      <td>2016</td>\n",
              "    </tr>\n",
              "  </tbody>\n",
              "</table>\n",
              "</div>\n",
              "      <button class=\"colab-df-convert\" onclick=\"convertToInteractive('df-d7f8d19b-73ec-4281-8192-8a34a0b89d3b')\"\n",
              "              title=\"Convert this dataframe to an interactive table.\"\n",
              "              style=\"display:none;\">\n",
              "        \n",
              "  <svg xmlns=\"http://www.w3.org/2000/svg\" height=\"24px\"viewBox=\"0 0 24 24\"\n",
              "       width=\"24px\">\n",
              "    <path d=\"M0 0h24v24H0V0z\" fill=\"none\"/>\n",
              "    <path d=\"M18.56 5.44l.94 2.06.94-2.06 2.06-.94-2.06-.94-.94-2.06-.94 2.06-2.06.94zm-11 1L8.5 8.5l.94-2.06 2.06-.94-2.06-.94L8.5 2.5l-.94 2.06-2.06.94zm10 10l.94 2.06.94-2.06 2.06-.94-2.06-.94-.94-2.06-.94 2.06-2.06.94z\"/><path d=\"M17.41 7.96l-1.37-1.37c-.4-.4-.92-.59-1.43-.59-.52 0-1.04.2-1.43.59L10.3 9.45l-7.72 7.72c-.78.78-.78 2.05 0 2.83L4 21.41c.39.39.9.59 1.41.59.51 0 1.02-.2 1.41-.59l7.78-7.78 2.81-2.81c.8-.78.8-2.07 0-2.86zM5.41 20L4 18.59l7.72-7.72 1.47 1.35L5.41 20z\"/>\n",
              "  </svg>\n",
              "      </button>\n",
              "      \n",
              "  <style>\n",
              "    .colab-df-container {\n",
              "      display:flex;\n",
              "      flex-wrap:wrap;\n",
              "      gap: 12px;\n",
              "    }\n",
              "\n",
              "    .colab-df-convert {\n",
              "      background-color: #E8F0FE;\n",
              "      border: none;\n",
              "      border-radius: 50%;\n",
              "      cursor: pointer;\n",
              "      display: none;\n",
              "      fill: #1967D2;\n",
              "      height: 32px;\n",
              "      padding: 0 0 0 0;\n",
              "      width: 32px;\n",
              "    }\n",
              "\n",
              "    .colab-df-convert:hover {\n",
              "      background-color: #E2EBFA;\n",
              "      box-shadow: 0px 1px 2px rgba(60, 64, 67, 0.3), 0px 1px 3px 1px rgba(60, 64, 67, 0.15);\n",
              "      fill: #174EA6;\n",
              "    }\n",
              "\n",
              "    [theme=dark] .colab-df-convert {\n",
              "      background-color: #3B4455;\n",
              "      fill: #D2E3FC;\n",
              "    }\n",
              "\n",
              "    [theme=dark] .colab-df-convert:hover {\n",
              "      background-color: #434B5C;\n",
              "      box-shadow: 0px 1px 3px 1px rgba(0, 0, 0, 0.15);\n",
              "      filter: drop-shadow(0px 1px 2px rgba(0, 0, 0, 0.3));\n",
              "      fill: #FFFFFF;\n",
              "    }\n",
              "  </style>\n",
              "\n",
              "      <script>\n",
              "        const buttonEl =\n",
              "          document.querySelector('#df-d7f8d19b-73ec-4281-8192-8a34a0b89d3b button.colab-df-convert');\n",
              "        buttonEl.style.display =\n",
              "          google.colab.kernel.accessAllowed ? 'block' : 'none';\n",
              "\n",
              "        async function convertToInteractive(key) {\n",
              "          const element = document.querySelector('#df-d7f8d19b-73ec-4281-8192-8a34a0b89d3b');\n",
              "          const dataTable =\n",
              "            await google.colab.kernel.invokeFunction('convertToInteractive',\n",
              "                                                     [key], {});\n",
              "          if (!dataTable) return;\n",
              "\n",
              "          const docLinkHtml = 'Like what you see? Visit the ' +\n",
              "            '<a target=\"_blank\" href=https://colab.research.google.com/notebooks/data_table.ipynb>data table notebook</a>'\n",
              "            + ' to learn more about interactive tables.';\n",
              "          element.innerHTML = '';\n",
              "          dataTable['output_type'] = 'display_data';\n",
              "          await google.colab.output.renderOutput(dataTable, element);\n",
              "          const docLink = document.createElement('div');\n",
              "          docLink.innerHTML = docLinkHtml;\n",
              "          element.appendChild(docLink);\n",
              "        }\n",
              "      </script>\n",
              "    </div>\n",
              "  </div>\n",
              "  "
            ]
          },
          "metadata": {},
          "execution_count": 8
        }
      ]
    },
    {
      "cell_type": "code",
      "source": [
        "#Leitura de Dados\n",
        "df.info()"
      ],
      "metadata": {
        "id": "eN9EhwM4ujDg",
        "colab": {
          "base_uri": "https://localhost:8080/"
        },
        "outputId": "58e00a18-374d-43d8-e701-d78640c4da0c"
      },
      "execution_count": 9,
      "outputs": [
        {
          "output_type": "stream",
          "name": "stdout",
          "text": [
            "<class 'pandas.core.frame.DataFrame'>\n",
            "RangeIndex: 457 entries, 0 to 456\n",
            "Data columns (total 12 columns):\n",
            " #   Column          Non-Null Count  Dtype  \n",
            "---  ------          --------------  -----  \n",
            " 0   DataNotaFiscal  457 non-null    object \n",
            " 1   Fabricante      457 non-null    object \n",
            " 2   Estado          457 non-null    object \n",
            " 3   ValorVenda      457 non-null    int64  \n",
            " 4   ValorCusto      457 non-null    int64  \n",
            " 5   TotalDesconto   457 non-null    float64\n",
            " 6   CustoEntrega    457 non-null    int64  \n",
            " 7   CustoMaoDeObra  457 non-null    int64  \n",
            " 8   NomeCliente     457 non-null    object \n",
            " 9   Modelo          457 non-null    object \n",
            " 10  Cor             457 non-null    object \n",
            " 11  Ano             457 non-null    int64  \n",
            "dtypes: float64(1), int64(5), object(6)\n",
            "memory usage: 43.0+ KB\n"
          ]
        }
      ]
    },
    {
      "cell_type": "markdown",
      "source": [
        "2-Manipulação e limpeza de dados com `pandas`"
      ],
      "metadata": {
        "id": "_gym8Wb82otb"
      }
    },
    {
      "cell_type": "markdown",
      "source": [
        "Obs: Nossa base de dados utilizada nao possui nenhum campo nulo, sendo assim , nao realizamos a limpeza dos campos"
      ],
      "metadata": {
        "id": "khXqQODk484y"
      }
    },
    {
      "cell_type": "code",
      "source": [
        "#Alteração no tipo do campo.\n",
        "df['DataNotaFiscal'] = pd.to_datetime(df['DataNotaFiscal'])\n",
        "df['Ano'] = pd.to_datetime(df['Ano'])"
      ],
      "metadata": {
        "id": "HGtjEa802uyt"
      },
      "execution_count": 10,
      "outputs": []
    },
    {
      "cell_type": "code",
      "source": [
        "#Verificar dados nulos\n",
        "df.isnull()"
      ],
      "metadata": {
        "id": "1HvIZnbX3Aac"
      },
      "execution_count": null,
      "outputs": []
    },
    {
      "cell_type": "code",
      "source": [
        "#Verificar dados nulos para cada coluna\n",
        "df.isnull().sum()"
      ],
      "metadata": {
        "id": "vi5sCD4a3Ro0",
        "colab": {
          "base_uri": "https://localhost:8080/"
        },
        "outputId": "848f19f1-be14-4d41-c6a2-988fc854edad"
      },
      "execution_count": 12,
      "outputs": [
        {
          "output_type": "execute_result",
          "data": {
            "text/plain": [
              "DataNotaFiscal    0\n",
              "Fabricante        0\n",
              "Estado            0\n",
              "ValorVenda        0\n",
              "ValorCusto        0\n",
              "TotalDesconto     0\n",
              "CustoEntrega      0\n",
              "CustoMaoDeObra    0\n",
              "NomeCliente       0\n",
              "Modelo            0\n",
              "Cor               0\n",
              "Ano               0\n",
              "dtype: int64"
            ]
          },
          "metadata": {},
          "execution_count": 12
        }
      ]
    },
    {
      "cell_type": "code",
      "source": [
        "#Remove os dados nulos ecnontrados\n",
        "shape_before = df.shape[0]\n",
        "shape_curr = df.dropna().shape[0]\n",
        "print(\"texto escolhido\".format(shape_before))"
      ],
      "metadata": {
        "id": "JYqNhRyn5V5i",
        "colab": {
          "base_uri": "https://localhost:8080/"
        },
        "outputId": "065faeda-dba3-4c41-bf76-97af96841aa8"
      },
      "execution_count": 13,
      "outputs": [
        {
          "output_type": "stream",
          "name": "stdout",
          "text": [
            "texto escolhido\n"
          ]
        }
      ]
    },
    {
      "cell_type": "code",
      "source": [
        "#Usamos para substituição dos dados caso seja nulo na coluna que digitarmos\n",
        "df.fillna('')"
      ],
      "metadata": {
        "id": "ZWwPkBPF4Lh0"
      },
      "execution_count": null,
      "outputs": []
    },
    {
      "cell_type": "code",
      "source": [
        "#Mostra se existe dados duplicados na nossa base\n",
        "df.duplicated()"
      ],
      "metadata": {
        "id": "MktAVxYO-KRS"
      },
      "execution_count": null,
      "outputs": []
    },
    {
      "cell_type": "markdown",
      "source": [
        "3-Descritivo e exploração de dados com pandas `(groupbys)`"
      ],
      "metadata": {
        "id": "yONy-9iX6HXM"
      }
    },
    {
      "cell_type": "code",
      "source": [
        "#Usando Groupby\n",
        "df[['Fabricante','Modelo','ValorCusto']].groupby(['Fabricante','Modelo']).median()"
      ],
      "metadata": {
        "id": "jiaNYR9z6KqZ"
      },
      "execution_count": null,
      "outputs": []
    },
    {
      "cell_type": "code",
      "source": [
        "df['Modelo'].value_counts()"
      ],
      "metadata": {
        "id": "EgA3EP1vWe0N"
      },
      "execution_count": null,
      "outputs": []
    },
    {
      "cell_type": "markdown",
      "source": [
        "4-Figuras que mostrem insights sobre os dados com `pandas` e `matplotlib`"
      ],
      "metadata": {
        "id": "BuBlk2PHYV81"
      }
    },
    {
      "cell_type": "code",
      "source": [
        "#Grafico de todas as colunas da base de dados\n",
        "df.hist()"
      ],
      "metadata": {
        "colab": {
          "base_uri": "https://localhost:8080/",
          "height": 455
        },
        "id": "h3hOpWK_Box_",
        "outputId": "580b7b85-a99a-4bc3-ab16-358b5146ed3b"
      },
      "execution_count": 22,
      "outputs": [
        {
          "output_type": "execute_result",
          "data": {
            "text/plain": [
              "array([[<matplotlib.axes._subplots.AxesSubplot object at 0x7f5668311d10>,\n",
              "        <matplotlib.axes._subplots.AxesSubplot object at 0x7f56682c5a90>,\n",
              "        <matplotlib.axes._subplots.AxesSubplot object at 0x7f5668278e90>],\n",
              "       [<matplotlib.axes._subplots.AxesSubplot object at 0x7f566823d3d0>,\n",
              "        <matplotlib.axes._subplots.AxesSubplot object at 0x7f56682738d0>,\n",
              "        <matplotlib.axes._subplots.AxesSubplot object at 0x7f566822add0>],\n",
              "       [<matplotlib.axes._subplots.AxesSubplot object at 0x7f56681ec390>,\n",
              "        <matplotlib.axes._subplots.AxesSubplot object at 0x7f56681a47d0>,\n",
              "        <matplotlib.axes._subplots.AxesSubplot object at 0x7f56681a4810>]],\n",
              "      dtype=object)"
            ]
          },
          "metadata": {},
          "execution_count": 22
        },
        {
          "output_type": "display_data",
          "data": {
            "text/plain": [
              "<Figure size 432x288 with 9 Axes>"
            ],
            "image/png": "[encoded data removed]"
          },
          "metadata": {
            "needs_background": "light"
          }
        }
      ]
    },
    {
      "cell_type": "code",
      "source": [
        "#Grafico em matplolib de uma coluna especifica da base de dados\n",
        "df['Fabricante'].hist()"
      ],
      "metadata": {
        "id": "OCBwPXoPfU66",
        "outputId": "37b921c1-ba72-466e-89b0-e971ed3d4fb3",
        "colab": {
          "base_uri": "https://localhost:8080/",
          "height": 282
        }
      },
      "execution_count": 21,
      "outputs": [
        {
          "output_type": "execute_result",
          "data": {
            "text/plain": [
              "<matplotlib.axes._subplots.AxesSubplot at 0x7f5668393690>"
            ]
          },
          "metadata": {},
          "execution_count": 21
        },
        {
          "output_type": "display_data",
          "data": {
            "text/plain": [
              "<Figure size 432x288 with 1 Axes>"
            ],
            "image/png": "[encoded data removed]"
          },
          "metadata": {
            "needs_background": "light"
          }
        }
      ]
    },
    {
      "cell_type": "markdown",
      "source": [
        "5-Quebrar os dados em conjunto de treino e conjunto de teste"
      ],
      "metadata": {
        "id": "4WQkoxFfg3BQ"
      }
    },
    {
      "cell_type": "markdown",
      "source": [
        ""
      ],
      "metadata": {
        "id": "M-wDtilNguHJ"
      }
    },
    {
      "cell_type": "code",
      "source": [
        ""
      ],
      "metadata": {
        "id": "5lja3DvPhqPh"
      },
      "execution_count": null,
      "outputs": []
    }
  ]
}